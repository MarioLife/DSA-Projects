{
 "cells": [
  {
   "cell_type": "markdown",
   "id": "67929b54",
   "metadata": {},
   "source": [
    "# Example 2: The brewery problem"
   ]
  },
  {
   "cell_type": "markdown",
   "id": "22469af2",
   "metadata": {},
   "source": [
    "The following models are partially flexible: we assume that the resources are always malt, hops, and yeast."
   ]
  },
  {
   "cell_type": "markdown",
   "id": "051813f3",
   "metadata": {},
   "source": [
    "## A concrete model"
   ]
  },
  {
   "cell_type": "code",
   "execution_count": 1,
   "id": "1287d478",
   "metadata": {},
   "outputs": [],
   "source": [
    "import pyomo.environ as pyo # import pyomo package"
   ]
  },
  {
   "cell_type": "code",
   "execution_count": 2,
   "id": "c9615aa5",
   "metadata": {},
   "outputs": [],
   "source": [
    "# Define the index set\n",
    "Beer = {'Light','Dark','Ale','Premium'}"
   ]
  },
  {
   "cell_type": "code",
   "execution_count": 3,
   "id": "0c9db683",
   "metadata": {},
   "outputs": [],
   "source": [
    "# Data\n",
    "w_malt = {'Light':1, 'Dark':1, 'Ale':0, 'Premium':3}\n",
    "w_hops = {'Light':2, 'Dark':1, 'Ale':2, 'Premium':2}\n",
    "w_yeast = {'Light':1, 'Dark':1, 'Ale':1, 'Premium':4}\n",
    "revenue = {'Light':6, 'Dark':5, 'Ale':3, 'Premium':7}\n",
    "avail_malt = 50\n",
    "avail_hops = 150\n",
    "avail_yeast = 80"
   ]
  },
  {
   "cell_type": "code",
   "execution_count": 4,
   "id": "ce77691a",
   "metadata": {},
   "outputs": [],
   "source": [
    "# Create a Concrete model\n",
    "model = pyo.ConcreteModel()"
   ]
  },
  {
   "cell_type": "code",
   "execution_count": 5,
   "id": "db45d18d",
   "metadata": {},
   "outputs": [],
   "source": [
    "# Build the decision variables\n",
    "model.x = pyo.Var(Beer, within=pyo.NonNegativeReals)"
   ]
  },
  {
   "cell_type": "code",
   "execution_count": 6,
   "id": "27b1a8af",
   "metadata": {},
   "outputs": [],
   "source": [
    "# Build the objective function\n",
    "model.obj = pyo.Objective(expr = sum(revenue[i]*model.x[i] for i in Beer), sense = pyo.maximize)"
   ]
  },
  {
   "cell_type": "code",
   "execution_count": 7,
   "id": "6cce44cb",
   "metadata": {},
   "outputs": [],
   "source": [
    "# Build the constraints\n",
    "model.malt = pyo.Constraint(expr = sum(w_malt[i]*model.x[i] for i in Beer) <= avail_malt)\n",
    "model.hops = pyo.Constraint(expr = sum(w_hops[i]*model.x[i] for i in Beer) <= avail_hops)\n",
    "model.yeast = pyo.Constraint(expr = sum(w_yeast[i]*model.x[i] for i in Beer) <= avail_yeast)"
   ]
  },
  {
   "cell_type": "code",
   "execution_count": 8,
   "id": "e009be13",
   "metadata": {},
   "outputs": [
    {
     "data": {
      "text/plain": [
       "{'Problem': [{'Name': 'unknown', 'Lower bound': 380.0, 'Upper bound': 380.0, 'Number of objectives': 1, 'Number of constraints': 4, 'Number of variables': 5, 'Number of nonzeros': 12, 'Sense': 'maximize'}], 'Solver': [{'Status': 'ok', 'Termination condition': 'optimal', 'Statistics': {'Branch and bound': {'Number of bounded subproblems': 0, 'Number of created subproblems': 0}}, 'Error rc': 0, 'Time': 0.05801892280578613}], 'Solution': [OrderedDict([('number of solutions', 0), ('number of solutions displayed', 0)])]}"
      ]
     },
     "execution_count": 8,
     "metadata": {},
     "output_type": "execute_result"
    }
   ],
   "source": [
    "# Solve the model through the GLPK solver\n",
    "solver = pyo.SolverFactory('glpk')\n",
    "solver.solve(model)"
   ]
  },
  {
   "cell_type": "code",
   "execution_count": 9,
   "id": "61ee8b78",
   "metadata": {},
   "outputs": [
    {
     "name": "stdout",
     "output_type": "stream",
     "text": [
      "\n",
      "Model unknown\n",
      "\n",
      "  Variables:\n",
      "    x : Size=4, Index=x_index\n",
      "        Key     : Lower : Value : Upper : Fixed : Stale : Domain\n",
      "            Ale :     0 :  30.0 :  None : False : False : NonNegativeReals\n",
      "           Dark :     0 :  10.0 :  None : False : False : NonNegativeReals\n",
      "          Light :     0 :  40.0 :  None : False : False : NonNegativeReals\n",
      "        Premium :     0 :   0.0 :  None : False : False : NonNegativeReals\n",
      "\n",
      "  Objectives:\n",
      "    obj : Size=1, Index=None, Active=True\n",
      "        Key  : Active : Value\n",
      "        None :   True : 380.0\n",
      "\n",
      "  Constraints:\n",
      "    malt : Size=1\n",
      "        Key  : Lower : Body : Upper\n",
      "        None :  None : 50.0 :  50.0\n",
      "    hops : Size=1\n",
      "        Key  : Lower : Body  : Upper\n",
      "        None :  None : 150.0 : 150.0\n",
      "    yeast : Size=1\n",
      "        Key  : Lower : Body : Upper\n",
      "        None :  None : 80.0 :  80.0\n",
      "\n",
      "Optimal value:  380.0\n"
     ]
    }
   ],
   "source": [
    "# Print the optimzation results\n",
    "print()\n",
    "model.display()  # List of all optimization results\n",
    "print()\n",
    "print('Optimal value: ', pyo.value(model.obj))  # Print the value of model.obj (i.e., optimal objective value)"
   ]
  },
  {
   "cell_type": "code",
   "execution_count": 10,
   "id": "a179fc0b",
   "metadata": {},
   "outputs": [
    {
     "name": "stdout",
     "output_type": "stream",
     "text": [
      "Dark 10.0\n",
      "Light 40.0\n",
      "Ale 30.0\n",
      "Premium 0.0\n"
     ]
    }
   ],
   "source": [
    "# Print the optimal solution\n",
    "for i in Beer:\n",
    "    print(i, pyo.value(model.x[i]))"
   ]
  },
  {
   "cell_type": "markdown",
   "id": "2f5941b3",
   "metadata": {},
   "source": [
    "## An abstract model"
   ]
  },
  {
   "cell_type": "code",
   "execution_count": 11,
   "id": "50717a31",
   "metadata": {},
   "outputs": [],
   "source": [
    "import pyomo.environ as pyo"
   ]
  },
  {
   "cell_type": "code",
   "execution_count": 12,
   "id": "508133b1",
   "metadata": {},
   "outputs": [],
   "source": [
    "# Create an Abstract model\n",
    "model = pyo.AbstractModel()"
   ]
  },
  {
   "cell_type": "code",
   "execution_count": 13,
   "id": "145bace6",
   "metadata": {},
   "outputs": [],
   "source": [
    "# Build the index set\n",
    "model.Beer = pyo.Set()"
   ]
  },
  {
   "cell_type": "code",
   "execution_count": 14,
   "id": "47182b2f",
   "metadata": {},
   "outputs": [],
   "source": [
    "# Build parameters\n",
    "model.w_malt = pyo.Param(model.Beer,within=pyo.NonNegativeReals)\n",
    "model.w_hops = pyo.Param(model.Beer,within=pyo.NonNegativeReals)\n",
    "model.w_yeast = pyo.Param(model.Beer,within=pyo.NonNegativeReals)\n",
    "model.revenue = pyo.Param(model.Beer,within=pyo.NonNegativeReals)\n",
    "model.avail_malt = pyo.Param(within=pyo.NonNegativeReals)\n",
    "model.avail_hops = pyo.Param(within=pyo.NonNegativeReals)\n",
    "model.avail_yeast = pyo.Param(within=pyo.NonNegativeReals)"
   ]
  },
  {
   "cell_type": "code",
   "execution_count": 15,
   "id": "99125114",
   "metadata": {},
   "outputs": [],
   "source": [
    "# Build the decision variables\n",
    "model.x = pyo.Var(model.Beer, within=pyo.NonNegativeReals) "
   ]
  },
  {
   "cell_type": "code",
   "execution_count": 16,
   "id": "fd1f9934",
   "metadata": {},
   "outputs": [],
   "source": [
    "# Build the objective function\n",
    "def obj_value_rule(model):\n",
    "    return sum(model.revenue[i]*model.x[i] for i in model.Beer)\n",
    "\n",
    "model.obj = pyo.Objective(rule=obj_value_rule, sense = pyo.maximize)"
   ]
  },
  {
   "cell_type": "code",
   "execution_count": 17,
   "id": "eed6a8f2",
   "metadata": {},
   "outputs": [],
   "source": [
    "# Build the malt constraint\n",
    "def malt_rule(model):\n",
    "    return sum(model.w_malt[i]*model.x[i] for i in model.Beer) <= model.avail_malt\n",
    "\n",
    "model.malt = pyo.Constraint(rule=malt_rule)"
   ]
  },
  {
   "cell_type": "code",
   "execution_count": 18,
   "id": "035e2963",
   "metadata": {},
   "outputs": [],
   "source": [
    "# Build the hops constraint\n",
    "def hops_rule(model):\n",
    "    return sum(model.w_hops[i]*model.x[i] for i in model.Beer) <= model.avail_hops\n",
    "\n",
    "model.hops = pyo.Constraint(rule=hops_rule)"
   ]
  },
  {
   "cell_type": "code",
   "execution_count": 20,
   "id": "29520ed0",
   "metadata": {},
   "outputs": [],
   "source": [
    "# Build the yeast constraint\n",
    "def yeast_rule(model):\n",
    "    return sum(model.w_yeast[i]*model.x[i] for i in model.Beer) <= model.avail_yeast\n",
    "\n",
    "\n",
    "model.yeast = pyo.Constraint(rule = yeast_rule)"
   ]
  },
  {
   "cell_type": "code",
   "execution_count": 21,
   "id": "fade4009",
   "metadata": {},
   "outputs": [],
   "source": [
    "# Load data\n",
    "instance = model.create_instance('brewery.dat')"
   ]
  },
  {
   "cell_type": "code",
   "execution_count": 22,
   "id": "b1fbe1f2",
   "metadata": {},
   "outputs": [
    {
     "data": {
      "text/plain": [
       "{'Problem': [{'Name': 'unknown', 'Lower bound': 380.0, 'Upper bound': 380.0, 'Number of objectives': 1, 'Number of constraints': 4, 'Number of variables': 5, 'Number of nonzeros': 12, 'Sense': 'maximize'}], 'Solver': [{'Status': 'ok', 'Termination condition': 'optimal', 'Statistics': {'Branch and bound': {'Number of bounded subproblems': 0, 'Number of created subproblems': 0}}, 'Error rc': 0, 'Time': 0.06754684448242188}], 'Solution': [OrderedDict([('number of solutions', 0), ('number of solutions displayed', 0)])]}"
      ]
     },
     "execution_count": 22,
     "metadata": {},
     "output_type": "execute_result"
    }
   ],
   "source": [
    "# Solve the model through the GLPK solver\n",
    "solver = pyo.SolverFactory('glpk')\n",
    "solver.solve(instance)"
   ]
  },
  {
   "cell_type": "code",
   "execution_count": 23,
   "id": "cadc166f",
   "metadata": {},
   "outputs": [
    {
     "name": "stdout",
     "output_type": "stream",
     "text": [
      "Model unknown\n",
      "\n",
      "  Variables:\n",
      "    x : Size=4, Index=Beer\n",
      "        Key     : Lower : Value : Upper : Fixed : Stale : Domain\n",
      "            Ale :     0 :  30.0 :  None : False : False : NonNegativeReals\n",
      "           Dark :     0 :  10.0 :  None : False : False : NonNegativeReals\n",
      "          Light :     0 :  40.0 :  None : False : False : NonNegativeReals\n",
      "        Premium :     0 :   0.0 :  None : False : False : NonNegativeReals\n",
      "\n",
      "  Objectives:\n",
      "    obj : Size=1, Index=None, Active=True\n",
      "        Key  : Active : Value\n",
      "        None :   True : 380.0\n",
      "\n",
      "  Constraints:\n",
      "    malt : Size=1\n",
      "        Key  : Lower : Body : Upper\n",
      "        None :  None : 50.0 :  50.0\n",
      "    hops : Size=1\n",
      "        Key  : Lower : Body  : Upper\n",
      "        None :  None : 150.0 : 150.0\n",
      "    yeast : Size=1\n",
      "        Key  : Lower : Body : Upper\n",
      "        None :  None : 80.0 :  80.0\n",
      "\n",
      "Optimal objective value:  380.0\n"
     ]
    }
   ],
   "source": [
    "# Print the results\n",
    "instance.display()\n",
    "print()\n",
    "print('Optimal objective value: ', pyo.value(instance.obj))"
   ]
  },
  {
   "cell_type": "code",
   "execution_count": 32,
   "id": "fa313d17",
   "metadata": {},
   "outputs": [
    {
     "name": "stdout",
     "output_type": "stream",
     "text": [
      "Dark 10.0\n",
      "Light 40.0\n",
      "Ale 30.0\n",
      "Premium 0.0\n"
     ]
    }
   ],
   "source": [
    "# Print the optimal solution\n",
    "for i in Beer:\n",
    "    print(i, pyo.value(instance.x[i]))"
   ]
  },
  {
   "cell_type": "code",
   "execution_count": null,
   "id": "430fccf7-72cd-4563-9cc7-934698b2bd31",
   "metadata": {},
   "outputs": [],
   "source": []
  }
 ],
 "metadata": {
  "kernelspec": {
   "display_name": "Python 3 (ipykernel)",
   "language": "python",
   "name": "python3"
  },
  "language_info": {
   "codemirror_mode": {
    "name": "ipython",
    "version": 3
   },
   "file_extension": ".py",
   "mimetype": "text/x-python",
   "name": "python",
   "nbconvert_exporter": "python",
   "pygments_lexer": "ipython3",
   "version": "3.9.12"
  }
 },
 "nbformat": 4,
 "nbformat_minor": 5
}
