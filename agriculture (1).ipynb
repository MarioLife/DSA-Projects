{
 "cells": [
  {
   "cell_type": "markdown",
   "id": "f97bd56f-019d-41c8-9890-f437eb9da37e",
   "metadata": {},
   "source": [
    "# DSA 8420 Project 1\n",
    "#### Liv Gamble & Alexander Harriman"
   ]
  },
  {
   "cell_type": "markdown",
   "id": "4189a4ef-475a-4c87-8c4d-0b22ad73f8aa",
   "metadata": {
    "tags": []
   },
   "source": [
    "## Farmer Crop Management"
   ]
  },
  {
   "cell_type": "markdown",
   "id": "da37fd91-1364-4707-8e2e-3528530f769a",
   "metadata": {
    "tags": []
   },
   "source": [
    "### Q1: An Abstract Model"
   ]
  },
  {
   "cell_type": "code",
   "execution_count": 11,
   "id": "49a9ea45-a3a8-45a2-b3dd-c28c4e9cc234",
   "metadata": {},
   "outputs": [],
   "source": [
    "import pyomo.environ as pyo"
   ]
  },
  {
   "cell_type": "code",
   "execution_count": 12,
   "id": "822469a0-b6d9-4ed6-a44f-69506d05d740",
   "metadata": {},
   "outputs": [],
   "source": [
    "# Create an Abstract model\n",
    "model = pyo.AbstractModel()"
   ]
  },
  {
   "cell_type": "code",
   "execution_count": 13,
   "id": "51edbe18-5e4d-4020-9219-a6a84ad144c2",
   "metadata": {},
   "outputs": [],
   "source": [
    "# Build the index set\n",
    "model.Crop = pyo.Set()"
   ]
  },
  {
   "cell_type": "code",
   "execution_count": 14,
   "id": "17ca9ab2-9d82-40c1-b633-46f9cbad95fd",
   "metadata": {},
   "outputs": [],
   "source": [
    "# Build parameters\n",
    "model.w_labor = pyo.Param(model.Crop,within=pyo.NonNegativeReals)\n",
    "model.w_capital = pyo.Param(model.Crop,within=pyo.NonNegativeReals)\n",
    "model.profit = pyo.Param(model.Crop,within=pyo.NonNegativeReals)\n",
    "model.avail_land = pyo.Param(within=pyo.NonNegativeReals)\n",
    "model.avail_labor = pyo.Param(within=pyo.NonNegativeReals)\n",
    "model.avail_capital = pyo.Param(within=pyo.NonNegativeReals)"
   ]
  },
  {
   "cell_type": "code",
   "execution_count": 15,
   "id": "274e6032-e60d-40fa-9abd-36935a9a49be",
   "metadata": {},
   "outputs": [],
   "source": [
    "# Build the decision variables\n",
    "model.x = pyo.Var(model.Crop, within=pyo.NonNegativeReals) "
   ]
  },
  {
   "cell_type": "code",
   "execution_count": 16,
   "id": "fb78d507-0278-4c7a-8771-caa58b3a677a",
   "metadata": {},
   "outputs": [],
   "source": [
    "# Build the objective function\n",
    "def obj_value_rule(model):\n",
    "    return sum(model.profit[i]*model.x[i] for i in model.Crop)\n",
    "\n",
    "model.obj = pyo.Objective(rule=obj_value_rule, sense = pyo.maximize)"
   ]
  },
  {
   "cell_type": "code",
   "execution_count": 17,
   "id": "44675834-2b4e-487a-8982-d66723047275",
   "metadata": {},
   "outputs": [],
   "source": [
    "# Build the land constraint\n",
    "def land_rule(model):\n",
    "    return sum(model.x[i] for i in model.Crop) <= model.avail_land\n",
    "\n",
    "model.land = pyo.Constraint(rule=land_rule)"
   ]
  },
  {
   "cell_type": "code",
   "execution_count": 18,
   "id": "1c5608f6-f2c8-4939-87d1-de232216ab82",
   "metadata": {},
   "outputs": [],
   "source": [
    "# Build the labor constraint\n",
    "def labor_rule(model):\n",
    "    return sum(model.w_labor[i]*model.x[i] for i in model.Crop) <= model.avail_labor\n",
    "\n",
    "model.labor = pyo.Constraint(rule=labor_rule)"
   ]
  },
  {
   "cell_type": "code",
   "execution_count": 19,
   "id": "16900ea1-1317-44e2-b663-dd8824ca3a01",
   "metadata": {},
   "outputs": [],
   "source": [
    "# Build the capital constraint\n",
    "def capital_rule(model):\n",
    "    return sum(model.w_capital[i]*model.x[i] for i in model.Crop) <= model.avail_capital\n",
    "\n",
    "model.capital = pyo.Constraint(rule=capital_rule)"
   ]
  },
  {
   "cell_type": "code",
   "execution_count": 20,
   "id": "9fc97ff9-9a1a-4ba8-85ee-fb74a079c903",
   "metadata": {},
   "outputs": [],
   "source": [
    "# Load data\n",
    "instance = model.create_instance('agriculture.dat')"
   ]
  },
  {
   "cell_type": "code",
   "execution_count": 21,
   "id": "b24dd4c3-55f4-47f0-86cb-ec44eca7c2b2",
   "metadata": {},
   "outputs": [
    {
     "data": {
      "text/plain": [
       "{'Problem': [{'Name': 'unknown', 'Lower bound': 360.0, 'Upper bound': 360.0, 'Number of objectives': 1, 'Number of constraints': 4, 'Number of variables': 4, 'Number of nonzeros': 10, 'Sense': 'maximize'}], 'Solver': [{'Status': 'ok', 'Termination condition': 'optimal', 'Statistics': {'Branch and bound': {'Number of bounded subproblems': 0, 'Number of created subproblems': 0}}, 'Error rc': 0, 'Time': 0.09763503074645996}], 'Solution': [OrderedDict([('number of solutions', 0), ('number of solutions displayed', 0)])]}"
      ]
     },
     "execution_count": 21,
     "metadata": {},
     "output_type": "execute_result"
    }
   ],
   "source": [
    "# Solve the model through the GLPK solver\n",
    "solver = pyo.SolverFactory('glpk')\n",
    "solver.solve(instance)"
   ]
  },
  {
   "cell_type": "code",
   "execution_count": 22,
   "id": "90ae33c3-d60c-498b-8e56-0a09d73eb5b4",
   "metadata": {},
   "outputs": [
    {
     "name": "stdout",
     "output_type": "stream",
     "text": [
      "Model unknown\n",
      "\n",
      "  Variables:\n",
      "    x : Size=3, Index=Crop\n",
      "        Key      : Lower : Value : Upper : Fixed : Stale : Domain\n",
      "            Corn :     0 :   6.0 :  None : False : False : NonNegativeReals\n",
      "            Oats :     0 :   6.0 :  None : False : False : NonNegativeReals\n",
      "        Soybeans :     0 :   0.0 :  None : False : False : NonNegativeReals\n",
      "\n",
      "  Objectives:\n",
      "    obj : Size=1, Index=None, Active=True\n",
      "        Key  : Active : Value\n",
      "        None :   True : 360.0\n",
      "\n",
      "  Constraints:\n",
      "    land : Size=1\n",
      "        Key  : Lower : Body : Upper\n",
      "        None :  None : 12.0 :  12.0\n",
      "    labor : Size=1\n",
      "        Key  : Lower : Body : Upper\n",
      "        None :  None : 48.0 :  48.0\n",
      "    capital : Size=1\n",
      "        Key  : Lower : Body  : Upper\n",
      "        None :  None : 324.0 : 360.0\n",
      "\n",
      "Optimal objective value:  360.0\n"
     ]
    }
   ],
   "source": [
    "# Print the results\n",
    "instance.display()\n",
    "print()\n",
    "print('Optimal objective value: ', pyo.value(instance.obj))"
   ]
  },
  {
   "cell_type": "code",
   "execution_count": 23,
   "id": "43cd95f6-cb5e-471d-9e85-1381f9b820f8",
   "metadata": {},
   "outputs": [
    {
     "name": "stdout",
     "output_type": "stream",
     "text": [
      "Corn 6.0\n",
      "Soybeans 0.0\n",
      "Oats 6.0\n"
     ]
    }
   ],
   "source": [
    "# Print the optimal solution\n",
    "for i in instance.Crop: \n",
    "    print(i, pyo.value(instance.x[i]))"
   ]
  },
  {
   "cell_type": "markdown",
   "id": "979b2e21-b1dc-4c3f-a842-1bef7071ec9f",
   "metadata": {},
   "source": [
    "### Q4: An Objective Function for the Dual"
   ]
  },
  {
   "cell_type": "code",
   "execution_count": 24,
   "id": "d66bc720-703c-4b56-b1fd-99629892bd87",
   "metadata": {},
   "outputs": [],
   "source": [
    "import pyomo.environ as pyo"
   ]
  },
  {
   "cell_type": "code",
   "execution_count": 25,
   "id": "a0693e90-3f91-4501-93d5-cd291e4b208d",
   "metadata": {},
   "outputs": [],
   "source": [
    "mod = pyo.ConcreteModel()"
   ]
  },
  {
   "cell_type": "code",
   "execution_count": 26,
   "id": "175b54d5-775f-4592-9158-bb2b6926dea3",
   "metadata": {},
   "outputs": [],
   "source": [
    "#Decision Variables\n",
    "mod.x = pyo.Var({1,2,3}) "
   ]
  },
  {
   "cell_type": "code",
   "execution_count": 27,
   "id": "644c997a-a7bf-4771-84ca-7254e88d4ebb",
   "metadata": {},
   "outputs": [],
   "source": [
    "#Objective Function\n",
    "mod.obj = pyo.Objective(expr = 12*mod.x[1]+48*mod.x[2]+360*mod.x[3])"
   ]
  },
  {
   "cell_type": "code",
   "execution_count": 28,
   "id": "bf76a7cd-2c16-4d58-af9c-365ae6c7b59f",
   "metadata": {},
   "outputs": [],
   "source": [
    "#Constraints\n",
    "mod.con1 = pyo.Constraint(expr = mod.x[1]+6*mod.x[2]+36*mod.x[3] >= 40)\n",
    "mod.con2 = pyo.Constraint(expr = mod.x[1]+6*mod.x[2]+24*mod.x[3] >= 30)\n",
    "mod.con3 = pyo.Constraint(expr = mod.x[1]+2*mod.x[2]+18*mod.x[3] >= 20)\n",
    "mod.con4 = pyo.Constraint(expr = mod.x[1] >= 0)\n",
    "mod.con5 = pyo.Constraint(expr = mod.x[2] >= 0)\n",
    "mod.con6 = pyo.Constraint(expr = mod.x[3] >= 0)"
   ]
  },
  {
   "cell_type": "code",
   "execution_count": 29,
   "id": "ce14cdfb-aab0-41ea-8962-dd4985e95989",
   "metadata": {},
   "outputs": [
    {
     "name": "stdout",
     "output_type": "stream",
     "text": [
      "1 Set Declarations\n",
      "    x_index : Size=1, Index=None, Ordered=False\n",
      "        Key  : Dimen : Domain : Size : Members\n",
      "        None :     1 :    Any :    3 : {1, 2, 3}\n",
      "\n",
      "1 Var Declarations\n",
      "    x : Size=3, Index=x_index\n",
      "        Key : Lower : Value : Upper : Fixed : Stale : Domain\n",
      "          1 :  None :  None :  None : False :  True :  Reals\n",
      "          2 :  None :  None :  None : False :  True :  Reals\n",
      "          3 :  None :  None :  None : False :  True :  Reals\n",
      "\n",
      "1 Objective Declarations\n",
      "    obj : Size=1, Index=None, Active=True\n",
      "        Key  : Active : Sense    : Expression\n",
      "        None :   True : minimize : 12*x[1] + 48*x[2] + 360*x[3]\n",
      "\n",
      "6 Constraint Declarations\n",
      "    con1 : Size=1, Index=None, Active=True\n",
      "        Key  : Lower : Body                    : Upper : Active\n",
      "        None :  40.0 : x[1] + 6*x[2] + 36*x[3] :  +Inf :   True\n",
      "    con2 : Size=1, Index=None, Active=True\n",
      "        Key  : Lower : Body                    : Upper : Active\n",
      "        None :  30.0 : x[1] + 6*x[2] + 24*x[3] :  +Inf :   True\n",
      "    con3 : Size=1, Index=None, Active=True\n",
      "        Key  : Lower : Body                    : Upper : Active\n",
      "        None :  20.0 : x[1] + 2*x[2] + 18*x[3] :  +Inf :   True\n",
      "    con4 : Size=1, Index=None, Active=True\n",
      "        Key  : Lower : Body : Upper : Active\n",
      "        None :   0.0 : x[1] :  +Inf :   True\n",
      "    con5 : Size=1, Index=None, Active=True\n",
      "        Key  : Lower : Body : Upper : Active\n",
      "        None :   0.0 : x[2] :  +Inf :   True\n",
      "    con6 : Size=1, Index=None, Active=True\n",
      "        Key  : Lower : Body : Upper : Active\n",
      "        None :   0.0 : x[3] :  +Inf :   True\n",
      "\n",
      "9 Declarations: x_index x obj con1 con2 con3 con4 con5 con6\n"
     ]
    }
   ],
   "source": [
    "mod.pprint()"
   ]
  },
  {
   "cell_type": "code",
   "execution_count": 30,
   "id": "19bcddff-f8e1-4b89-95ef-71156d68fafa",
   "metadata": {},
   "outputs": [
    {
     "data": {
      "text/plain": [
       "{'Problem': [{'Name': 'unknown', 'Lower bound': 360.0, 'Upper bound': 360.0, 'Number of objectives': 1, 'Number of constraints': 7, 'Number of variables': 4, 'Number of nonzeros': 13, 'Sense': 'minimize'}], 'Solver': [{'Status': 'ok', 'Termination condition': 'optimal', 'Statistics': {'Branch and bound': {'Number of bounded subproblems': 0, 'Number of created subproblems': 0}}, 'Error rc': 0, 'Time': 0.11449599266052246}], 'Solution': [OrderedDict([('number of solutions', 0), ('number of solutions displayed', 0)])]}"
      ]
     },
     "execution_count": 30,
     "metadata": {},
     "output_type": "execute_result"
    }
   ],
   "source": [
    "#Solving\n",
    "solver = pyo.SolverFactory('glpk')\n",
    "solver.solve(mod)"
   ]
  },
  {
   "cell_type": "code",
   "execution_count": 31,
   "id": "e69e422c-1c1e-41ce-9583-b559adb4c81d",
   "metadata": {},
   "outputs": [
    {
     "name": "stdout",
     "output_type": "stream",
     "text": [
      "\n",
      "Model unknown\n",
      "\n",
      "  Variables:\n",
      "    x : Size=3, Index=x_index\n",
      "        Key : Lower : Value : Upper : Fixed : Stale : Domain\n",
      "          1 :  None :  10.0 :  None : False : False :  Reals\n",
      "          2 :  None :   5.0 :  None : False : False :  Reals\n",
      "          3 :  None :   0.0 :  None : False : False :  Reals\n",
      "\n",
      "  Objectives:\n",
      "    obj : Size=1, Index=None, Active=True\n",
      "        Key  : Active : Value\n",
      "        None :   True : 360.0\n",
      "\n",
      "  Constraints:\n",
      "    con1 : Size=1\n",
      "        Key  : Lower : Body : Upper\n",
      "        None :  40.0 : 40.0 :  None\n",
      "    con2 : Size=1\n",
      "        Key  : Lower : Body : Upper\n",
      "        None :  30.0 : 40.0 :  None\n",
      "    con3 : Size=1\n",
      "        Key  : Lower : Body : Upper\n",
      "        None :  20.0 : 20.0 :  None\n",
      "    con4 : Size=1\n",
      "        Key  : Lower : Body : Upper\n",
      "        None :   0.0 : 10.0 :  None\n",
      "    con5 : Size=1\n",
      "        Key  : Lower : Body : Upper\n",
      "        None :   0.0 :  5.0 :  None\n",
      "    con6 : Size=1\n",
      "        Key  : Lower : Body : Upper\n",
      "        None :   0.0 :  0.0 :  None\n",
      "\n",
      "Optimal value:  360.0\n"
     ]
    }
   ],
   "source": [
    "#Results\n",
    "print()\n",
    "mod.display()\n",
    "print()\n",
    "print('Optimal value: ', pyo.value(mod.obj))"
   ]
  }
 ],
 "metadata": {
  "kernelspec": {
   "display_name": "Python 3 (ipykernel)",
   "language": "python",
   "name": "python3"
  },
  "language_info": {
   "codemirror_mode": {
    "name": "ipython",
    "version": 3
   },
   "file_extension": ".py",
   "mimetype": "text/x-python",
   "name": "python",
   "nbconvert_exporter": "python",
   "pygments_lexer": "ipython3",
   "version": "3.9.12"
  }
 },
 "nbformat": 4,
 "nbformat_minor": 5
}
